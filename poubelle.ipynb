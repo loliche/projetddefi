{
 "cells": [
  {
   "cell_type": "code",
   "execution_count": null,
   "metadata": {},
   "outputs": [],
   "source": [
    "#sommets_centralite_max=[]\n",
    "#for i in range(len(communities)):\n",
    "#    sous_graphe=nx.subgraph(G,communities[i])\n",
    "#    centralite = nx.degree_centrality(G)\n",
    "#    centralite_ind = list(centralite.keys())\n",
    "#    centralite_val = list(centralite.values())\n",
    "#    centralite_val.sort()\n",
    "#    ValMaximum=centralite_val[-1]\n",
    "#    centralite_val = list(centralite.values())\n",
    "#    for i in range(len(centralite_ind)):\n",
    "#        if centralite_val[i] == ValMaximum :\n",
    "#            sommets_centralite_max.append(centralite_ind[i])\n",
    "#print(len(sommets_centralite_max))"
   ]
  },
  {
   "cell_type": "code",
   "execution_count": null,
   "metadata": {},
   "outputs": [],
   "source": [
    "#centralite = nx.degree_centrality(graph)\n",
    "#centralite_ind = list(centralite.keys())\n",
    "#centralite_val = list(centralite.values())\n",
    "#centralite_val.sort()\n",
    "#min=centralite_val[65044]\n",
    "#centralite_val = list(centralite.values())\n",
    "#sommets_centralite_max = [centralite_ind[i] for i in range(len(centralite_ind)) if centralite_val[i] >= min]\n",
    "#print(sommets_centralite_max)"
   ]
  },
  {
   "attachments": {},
   "cell_type": "markdown",
   "metadata": {},
   "source": [
    "On supprime la moitié des noeuds les moins centraux."
   ]
  },
  {
   "cell_type": "code",
   "execution_count": null,
   "metadata": {},
   "outputs": [],
   "source": [
    "#centralite_val = list(centralite.values())\n",
    "#centralite_val.sort()\n",
    "#min=centralite_val[64000]\n",
    "#centralite_val = list(centralite.values())\n",
    "#sommets_centralite_max = [centralite_ind[i] for i in range(len(centralite_ind)) if centralite_val[i] >= min]\n",
    "#print(len(sommets_centralite_max))"
   ]
  },
  {
   "attachments": {},
   "cell_type": "markdown",
   "metadata": {},
   "source": [
    "pour tracer un graphe partitionné"
   ]
  },
  {
   "cell_type": "code",
   "execution_count": null,
   "metadata": {},
   "outputs": [],
   "source": [
    "# draw the graph\n",
    "pos = nx.spring_layout(graph)\n",
    "# color the nodes according to their partition\n",
    "cmap = cm.get_cmap('viridis', max(partition.values()) + 1)\n",
    "nx.draw_networkx_nodes(graph, pos, partition.keys(), node_size=40, cmap=cmap, node_color=list(partition.values()))\n",
    "nx.draw_networkx_edges(graph, pos, alpha=0.5)\n",
    "#nx.draw_networkx_labels(G, pos, labels=labels_nodes,font_size=15,font_color='black',font_family='sans-serif')\n",
    "plt.show()"
   ]
  }
 ],
 "metadata": {
  "kernelspec": {
   "display_name": "base",
   "language": "python",
   "name": "python3"
  },
  "language_info": {
   "name": "python",
   "version": "3.8.5 (default, Sep  4 2020, 02:22:02) \n[Clang 10.0.0 ]"
  },
  "orig_nbformat": 4,
  "vscode": {
   "interpreter": {
    "hash": "f9d71052a2ac755bf32e75ee719fd88944f42b8264796cb7c605afebcefa650a"
   }
  }
 },
 "nbformat": 4,
 "nbformat_minor": 2
}
